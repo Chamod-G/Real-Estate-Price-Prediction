{
 "cells": [
  {
   "cell_type": "markdown",
   "id": "6f424657",
   "metadata": {},
   "source": [
    "# Project Introduction\n",
    "This project walks through how to build a real estate price prediction website.\n",
    "\n",
    "<b>Step 1 </b>: Building a model using sklearn and linear regression using banglore home prices dataset from kaggle.com\n",
    "</br>\n",
    "<b>Step 2 </b>: Python flask server that uses the saved model to serve http requests.\n",
    "</br>\n",
    "<b>Step 3</b> : Website built in html, css and javascript that allows user to enter home square ft area,bedroom and etc\n",
    "<br>\n",
    "\n",
    "Dring model building data science concepts such as data load and cleaning, outlier detection and removal, feature engineering, dimensionality reduction, fridsearchcv for hyperparameter tunning, k fold cross validation ara covered\n",
    "\n",
    "## Tools and Techonologies\n",
    "\n",
    "* Python\n",
    "* Numpy and pandas - Data cleaning\n",
    "* Matplotlib - Data visualization\n",
    "* sklearn - Model building\n",
    "* Jupyter notebook, visual stdio code and pycharm - IDE\n",
    "* HTML/CSS/JavaScript - UI\n"
   ]
  },
  {
   "cell_type": "code",
   "execution_count": null,
   "id": "f83b1426",
   "metadata": {},
   "outputs": [],
   "source": []
  }
 ],
 "metadata": {
  "kernelspec": {
   "display_name": "Python 3 (ipykernel)",
   "language": "python",
   "name": "python3"
  },
  "language_info": {
   "codemirror_mode": {
    "name": "ipython",
    "version": 3
   },
   "file_extension": ".py",
   "mimetype": "text/x-python",
   "name": "python",
   "nbconvert_exporter": "python",
   "pygments_lexer": "ipython3",
   "version": "3.9.7"
  }
 },
 "nbformat": 4,
 "nbformat_minor": 5
}
